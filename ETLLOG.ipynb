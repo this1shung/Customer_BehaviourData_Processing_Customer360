{
 "cells": [
  {
   "cell_type": "code",
   "execution_count": 1,
   "metadata": {},
   "outputs": [],
   "source": [
    "from pyspark.sql import SparkSession\n",
    "from pyspark.sql.functions import * \n",
    "from pyspark.sql.window import Window \n",
    "from pyspark.sql.types import StructType, StructField, StringType, IntegerType\n",
    "\n",
    "spark = SparkSession.builder.config('spark.driver.memory','4g').getOrCreate()\n",
    "Filepath = \"D:\\\\LEARNING\\\\Study_DE\\\\Data\\\\Dataset\\\\log_search\\\\\"\n",
    "Mappath1 = \"D:\\\\PROJECT\\\\Data-Engineering-and-Big-Data\\\\mapthang6.csv\"\n",
    "Mappath2 = \"D:\\\\PROJECT\\\\Data-Engineering-and-Big-Data\\\\mapthang7.csv\"\n",
    "outputpath = \"D:\\\\OUTPUTDATA\""
   ]
  },
  {
   "cell_type": "code",
   "execution_count": 2,
   "metadata": {},
   "outputs": [],
   "source": [
    "def ReadFileAndUnion(Path,FromDate,ToDate):\n",
    "    schema = StructType([\n",
    "    StructField(\"eventID\", StringType(), True),\n",
    "    StructField(\"datetime\", StringType(), True),\n",
    "    StructField(\"user_id\", StringType(), True),\n",
    "    StructField(\"keyword\", StringType(), True),\n",
    "    StructField(\"category\", StringType(), True),\n",
    "    StructField(\"proxy_isp\", StringType(), True),\n",
    "    StructField(\"platform\", StringType(), True),\n",
    "    StructField(\"networkType\", StringType(), True),\n",
    "    StructField(\"action\", StringType(), True),\n",
    "    StructField(\"userPlansMap\", ArrayType(StringType()), True),\n",
    "    ])\n",
    "    data = spark.createDataFrame([],schema = schema)\n",
    "\n",
    "    listSTR = []\n",
    "    listINT = list(range(FromDate,ToDate+1))\n",
    "    for item in listINT:\n",
    "        listSTR.append(str(item))\n",
    "    filesname = [Path + fname for fname in listSTR]\n",
    "    filecount = 1\n",
    "\n",
    "    for name in filesname:\n",
    "        df = spark.read.parquet(name)\n",
    "        data = data.union(df)\n",
    "        print(f\"Done {filecount} day\")\n",
    "        filecount = filecount + 1\n",
    "    \n",
    "    return data"
   ]
  },
  {
   "cell_type": "code",
   "execution_count": 3,
   "metadata": {},
   "outputs": [
    {
     "name": "stdout",
     "output_type": "stream",
     "text": [
      "Done 1 day\n",
      "Done 2 day\n",
      "Done 3 day\n",
      "Done 4 day\n",
      "Done 5 day\n",
      "Done 6 day\n",
      "Done 7 day\n",
      "Done 8 day\n",
      "Done 9 day\n",
      "Done 10 day\n",
      "Done 11 day\n",
      "Done 12 day\n",
      "Done 13 day\n",
      "Done 14 day\n",
      "Done 1 day\n",
      "Done 2 day\n",
      "Done 3 day\n",
      "Done 4 day\n",
      "Done 5 day\n",
      "Done 6 day\n",
      "Done 7 day\n",
      "Done 8 day\n",
      "Done 9 day\n",
      "Done 10 day\n",
      "Done 11 day\n",
      "Done 12 day\n",
      "Done 13 day\n",
      "Done 14 day\n"
     ]
    }
   ],
   "source": [
    "data6 = ReadFileAndUnion(Filepath,20220601,20220614)\n",
    "data7 = ReadFileAndUnion(Filepath,20220701,20220714)"
   ]
  },
  {
   "cell_type": "code",
   "execution_count": 4,
   "metadata": {},
   "outputs": [
    {
     "name": "stdout",
     "output_type": "stream",
     "text": [
      "+--------------------+--------------------+--------+--------------------+--------+---------+--------------------+-----------+------+--------------------+\n",
      "|             eventID|            datetime| user_id|             keyword|category|proxy_isp|            platform|networkType|action|        userPlansMap|\n",
      "+--------------------+--------------------+--------+--------------------+--------+---------+--------------------+-----------+------+--------------------+\n",
      "|61804316-6b89-4cf...|2022-06-01 18:59:...|    NULL|            trữ tình|   enter|     vnpt|   fplay-ottbox-2019|   ethernet|search|                NULL|\n",
      "|22c35287-9fe1-487...|2022-06-01 18:59:...|44887906|            trữ tình|   enter|     vnpt|   fplay-ottbox-2019|   ethernet|search|                  []|\n",
      "|f9af5a95-1f72-486...|2022-06-01 18:59:...| 2719170|              bolero|   enter|  viettel|   fplay-ottbox-2019|   ethernet|search|[Kênh Gia Đình:pr...|\n",
      "|fd53edee-132d-4ac...|2022-06-01 15:00:...|    NULL|amy schumer: trực...|   enter|     vnpt| smarttv-ceb-nextgen|       NULL|search|                NULL|\n",
      "|d51e6e6c-2765-4a8...|2022-06-01 19:00:...| 8830996|cậu mang à sĩ hanako|   enter|     vnpt|smarttv-sony-android|       wifi|search|[Kênh Gia Đình:pr...|\n",
      "|15bdaa4d-0c1e-452...|2022-06-01 19:00:...|    NULL|      Hoa trong bao |   enter|     vnpt|             android|       wifi|search|                NULL|\n",
      "|3948ea18-8c86-451...|2022-06-01 19:00:...|41559909|liên minh công lý...|   enter|     vnpt|     smart-tv-normal|       wifi|search|[Kênh Gia Đình:gi...|\n",
      "|25b5e49c-0488-4a7...|2022-06-01 19:00:...|92715770|                NULL|    quit|  viettel|     smart-tv-normal|       wifi|search|                  []|\n",
      "|89c4f55f-d8e0-4b6...|2022-06-01 19:00:...|49026196|    việt nam vs appa|    quit|     vnpt|             android|       wifi|search|                  []|\n",
      "|5098c3bf-c935-4b0...|2022-06-01 19:00:...|    NULL|chuyển sinh thành...|   enter|    other|     smart-tv-normal|       wifi|search|                NULL|\n",
      "|261329ee-9b91-47d...|2022-06-01 19:00:...|41376437|nhất kiến khuynh tâm|   enter|  viettel|smart-tv-normal-n...|       wifi|search|                  []|\n",
      "|9a31a703-ac4f-45e...|2022-06-01 19:00:...| 1254139|                giác|   enter|  viettel|         web-playfpt|       NULL|search|                  []|\n",
      "|bb7ac7cf-abc6-473...|2022-06-01 19:00:...|42534799|            nexsport|   enter|     vnpt|                 ios|       WIFI|search|[Kênh Quốc Tế:pro...|\n",
      "|9b94a851-a1db-446...|2022-06-01 19:00:...|49190631|Tìm kiếm bằng giọ...|   enter|     vnpt|smarttv-sony-android|   ethernet|search|                  []|\n",
      "|05533ed0-f901-455...|2022-06-01 19:00:...|    NULL|Lương Sơn Bá Chúc...|   enter|  viettel|     smart-tv-normal|   ethernet|search|                NULL|\n",
      "|68bcd92c-6156-421...|2022-06-01 19:00:...|91485275|một mảnh băng tâm...|    quit|     vnpt|             android|       wifi|search|                  []|\n",
      "|f917fc5b-5235-4dd...|2022-06-01 19:00:...|45282582|            sáng tạo|   enter|  viettel|fplay-ottbox-sei-...|       wifi|search|[Kênh Gia Đình:pr...|\n",
      "|649f963c-375c-498...|2022-06-01 19:00:...|41851691|                NULL|    quit|     vnpt| smarttv-tcl-android|       wifi|search|[Tắt quảng cáo:gi...|\n",
      "|4c7999d0-9939-4f0...|2022-06-01 19:03:...| 2599280|            truc tep|   enter|  viettel|             android|       wifi|search|                  []|\n",
      "|8b1c88c7-1d78-44f...|2022-06-01 19:01:...|41681697|                NULL|    quit|     vnpt| smarttv-tcl-android|       wifi|search|[MAX:direct, MAX ...|\n",
      "+--------------------+--------------------+--------+--------------------+--------+---------+--------------------+-----------+------+--------------------+\n",
      "only showing top 20 rows\n",
      "\n"
     ]
    }
   ],
   "source": [
    "data6.show()"
   ]
  },
  {
   "cell_type": "code",
   "execution_count": 5,
   "metadata": {},
   "outputs": [],
   "source": [
    "data6 = data6.select('user_id','keyword')"
   ]
  },
  {
   "cell_type": "code",
   "execution_count": 6,
   "metadata": {},
   "outputs": [
    {
     "name": "stdout",
     "output_type": "stream",
     "text": [
      "+--------+--------------------+\n",
      "| user_id|             keyword|\n",
      "+--------+--------------------+\n",
      "|    NULL|            trữ tình|\n",
      "|44887906|            trữ tình|\n",
      "| 2719170|              bolero|\n",
      "|    NULL|amy schumer: trực...|\n",
      "| 8830996|cậu mang à sĩ hanako|\n",
      "|    NULL|      Hoa trong bao |\n",
      "|41559909|liên minh công lý...|\n",
      "|92715770|                NULL|\n",
      "|49026196|    việt nam vs appa|\n",
      "|    NULL|chuyển sinh thành...|\n",
      "|41376437|nhất kiến khuynh tâm|\n",
      "| 1254139|                giác|\n",
      "|42534799|            nexsport|\n",
      "|49190631|Tìm kiếm bằng giọ...|\n",
      "|    NULL|Lương Sơn Bá Chúc...|\n",
      "|91485275|một mảnh băng tâm...|\n",
      "|45282582|            sáng tạo|\n",
      "|41851691|                NULL|\n",
      "| 2599280|            truc tep|\n",
      "|41681697|                NULL|\n",
      "+--------+--------------------+\n",
      "only showing top 20 rows\n",
      "\n"
     ]
    }
   ],
   "source": [
    "data6.show()"
   ]
  },
  {
   "cell_type": "code",
   "execution_count": 7,
   "metadata": {},
   "outputs": [],
   "source": [
    "data6 = data6.groupBy('user_id','keyword').count()"
   ]
  },
  {
   "cell_type": "code",
   "execution_count": 8,
   "metadata": {},
   "outputs": [
    {
     "name": "stdout",
     "output_type": "stream",
     "text": [
      "+--------+--------------------+-----+\n",
      "| user_id|             keyword|count|\n",
      "+--------+--------------------+-----+\n",
      "| 8460879|Đao Kiếm Thần Vực...|    1|\n",
      "| 3040638|             bóng đá|    1|\n",
      "|98543977|    tái sinh báo thù|    1|\n",
      "| 9030455|Trực tiếp U23 Việ...|    1|\n",
      "|41789116|   tiên kiếm kỳ hiệp|    1|\n",
      "|91999697|        bóng đá u23 |    1|\n",
      "| 8221328|           kênh vtv6|    1|\n",
      "| 0789087|    giao hữu quốc tế|    1|\n",
      "| 0508207|không thèm yêu đư...|    3|\n",
      "|42363805|             bóng đá|    1|\n",
      "|49603005|truc tiep bong đá...|    1|\n",
      "|42797857|hãy gọi tôi là tổ...|    1|\n",
      "|42527878|Liên Minh Công Lý...|    1|\n",
      "|90282848|           5 đứa trẻ|    1|\n",
      "|44179430|trực tiếp đá bóng...|    1|\n",
      "|49569142|             DA BANH|    1|\n",
      "|90592078|         on football|    2|\n",
      "|96932783|    woori the virgin|    1|\n",
      "|49195827|     u23 vief nam...|    1|\n",
      "|41723086|trực tiếp việt na...|    2|\n",
      "+--------+--------------------+-----+\n",
      "only showing top 20 rows\n",
      "\n"
     ]
    }
   ],
   "source": [
    "data6.show()"
   ]
  },
  {
   "cell_type": "code",
   "execution_count": 9,
   "metadata": {},
   "outputs": [],
   "source": [
    "data6 = data6.withColumnRenamed('count','TotalSearch')"
   ]
  },
  {
   "cell_type": "code",
   "execution_count": 10,
   "metadata": {},
   "outputs": [
    {
     "name": "stdout",
     "output_type": "stream",
     "text": [
      "+--------+--------------------+-----------+\n",
      "| user_id|             keyword|TotalSearch|\n",
      "+--------+--------------------+-----------+\n",
      "| 8460879|Đao Kiếm Thần Vực...|          1|\n",
      "| 3040638|             bóng đá|          1|\n",
      "|98543977|    tái sinh báo thù|          1|\n",
      "| 9030455|Trực tiếp U23 Việ...|          1|\n",
      "|41789116|   tiên kiếm kỳ hiệp|          1|\n",
      "|91999697|        bóng đá u23 |          1|\n",
      "| 8221328|           kênh vtv6|          1|\n",
      "| 0789087|    giao hữu quốc tế|          1|\n",
      "| 0508207|không thèm yêu đư...|          3|\n",
      "|42363805|             bóng đá|          1|\n",
      "|49603005|truc tiep bong đá...|          1|\n",
      "|42797857|hãy gọi tôi là tổ...|          1|\n",
      "|42527878|Liên Minh Công Lý...|          1|\n",
      "|90282848|           5 đứa trẻ|          1|\n",
      "|44179430|trực tiếp đá bóng...|          1|\n",
      "|49569142|             DA BANH|          1|\n",
      "|90592078|         on football|          2|\n",
      "|96932783|    woori the virgin|          1|\n",
      "|49195827|     u23 vief nam...|          1|\n",
      "|41723086|trực tiếp việt na...|          2|\n",
      "+--------+--------------------+-----------+\n",
      "only showing top 20 rows\n",
      "\n"
     ]
    }
   ],
   "source": [
    "data6.show()"
   ]
  },
  {
   "cell_type": "code",
   "execution_count": 11,
   "metadata": {},
   "outputs": [],
   "source": [
    "data6 = data6.orderBy('user_id',ascending = False)"
   ]
  },
  {
   "cell_type": "code",
   "execution_count": 12,
   "metadata": {},
   "outputs": [
    {
     "name": "stdout",
     "output_type": "stream",
     "text": [
      "+--------+--------------------+-----------+\n",
      "| user_id|             keyword|TotalSearch|\n",
      "+--------+--------------------+-----------+\n",
      "|99999941|             gintama|          1|\n",
      "|99999941|       cẩm tú nam ca|          1|\n",
      "|99999941|    thien menh hoang|          1|\n",
      "|99999941|          thien mẻnh|          1|\n",
      "|99999941|             vi uong|          1|\n",
      "|99999941|        linh hon bac|          1|\n",
      "|99999941|lấy danh nghĩa ng...|          1|\n",
      "|99999793|               conan|          2|\n",
      "|99999793|     vân tịch truyện|          4|\n",
      "|99999793|      sở kiều truyện|          1|\n",
      "|99999793|cuối cùng cũng đế...|          1|\n",
      "|99999793|    như ý phương phi|          1|\n",
      "|99999793|cô nàng trong trắ...|          1|\n",
      "|99999793|       thám tử conan|          1|\n",
      "|99999793| hải thượng phồn hoa|          1|\n",
      "|99999793|     bằng chứng thép|          1|\n",
      "|99999759|bí mật không thể nói|          1|\n",
      "|99999759|cô nàng trong trắ...|          3|\n",
      "|99999351|     phim thanh xuân|          1|\n",
      "|99999351| GUI THOI THANH XUAN|          1|\n",
      "+--------+--------------------+-----------+\n",
      "only showing top 20 rows\n",
      "\n"
     ]
    }
   ],
   "source": [
    "data6.show()"
   ]
  },
  {
   "cell_type": "code",
   "execution_count": 14,
   "metadata": {},
   "outputs": [],
   "source": [
    "# window = Window.partitionBy('user_id').orderBy(col('TotalSearch').desc())\n",
    "# data = data.withColumn('Rank',row_number().over(window))\n",
    "\n",
    "window = Window.partitionBy('user_id').orderBy(col('TotalSearch').desc())\n",
    "data6 = data6.withColumn('Rank',row_number().over(window))"
   ]
  },
  {
   "cell_type": "code",
   "execution_count": 15,
   "metadata": {},
   "outputs": [
    {
     "name": "stdout",
     "output_type": "stream",
     "text": [
      "+--------+--------------------+-----------+----+\n",
      "| user_id|             keyword|TotalSearch|Rank|\n",
      "+--------+--------------------+-----------+----+\n",
      "| 9724993|Tìm kiếm bằng giọ...|          1|   1|\n",
      "|97249985|cuộc chiến giày g...|          2|   1|\n",
      "|97249985|thử thách thần tượng|          2|   2|\n",
      "|97249985|pháp y tần minh: ...|          1|   3|\n",
      "|97249985|tại sao lại là oh...|          1|   4|\n",
      "|97249985|           one piece|          1|   5|\n",
      "|97249985|               conan|          1|   6|\n",
      "|97249985|nụ hôn của giác q...|          1|   7|\n",
      "|97249985|       running mùa 2|          1|   8|\n",
      "|97249993|  người thầy y đức 2|          3|   1|\n",
      "|97249993|    người thầy y đức|          1|   2|\n",
      "|97250012|  trời đẹp em sẽ đến|          1|   1|\n",
      "|97250033|    đời sống ngục tù|          3|   1|\n",
      "|97250054|   chien long xa thu|          1|   1|\n",
      "|97250057|                hoạ |          1|   1|\n",
      "|97250057|    châu sinh như cố|          1|   2|\n",
      "|97250067|        mộng hoa lục|          1|   1|\n",
      "|97250067|           one piece|          1|   2|\n",
      "|97250067|học viện anh hùng...|          1|   3|\n",
      "|97250124|   lâu đài tham vọng|          1|   1|\n",
      "+--------+--------------------+-----------+----+\n",
      "only showing top 20 rows\n",
      "\n"
     ]
    }
   ],
   "source": [
    "data6.show()"
   ]
  },
  {
   "cell_type": "code",
   "execution_count": 16,
   "metadata": {},
   "outputs": [],
   "source": [
    "data6 = data6.filter(col('Rank') == 1)"
   ]
  },
  {
   "cell_type": "code",
   "execution_count": 17,
   "metadata": {},
   "outputs": [
    {
     "name": "stdout",
     "output_type": "stream",
     "text": [
      "+--------+--------------------+-----------+----+\n",
      "| user_id|             keyword|TotalSearch|Rank|\n",
      "+--------+--------------------+-----------+----+\n",
      "|97258098|nhân sinh nếu như...|          1|   1|\n",
      "|97258102|cũng chỉ  là hạt bụi|          1|   1|\n",
      "|97258106|            việt nam|          1|   1|\n",
      "|97258157|           bác sĩ ma|          1|   1|\n",
      "|97258178|      tranh thiên hạ|          2|   1|\n",
      "|97258193|những chàng trai ...|          3|   1|\n",
      "|97258249|            still 17|          1|   1|\n",
      "|97258251|                 eve|          1|   1|\n",
      "|97258309|          love logic|          1|   1|\n",
      "|97258326|        mộng hoa lục|          1|   1|\n",
      "|97258493|  thiên nga bóng đêm|          1|   1|\n",
      "|97258523|   du sinh  xin chi |          2|   1|\n",
      "|97258581|gạt đi Tình Thân ...|          1|   1|\n",
      "|97258812|   pháp y tần minh 2|          1|   1|\n",
      "|97258818|            HORIMIYA|          5|   1|\n",
      "|97258824| thương ngày nắng về|          1|   1|\n",
      "|97258877|     tokyo revengers|          1|   1|\n",
      "| 9725900|yêu con gái của k...|          1|   1|\n",
      "|97259047|                NULL|          1|   1|\n",
      "|97259139|yêu trong đau thương|          1|   1|\n",
      "+--------+--------------------+-----------+----+\n",
      "only showing top 20 rows\n",
      "\n"
     ]
    }
   ],
   "source": [
    "data6.show()"
   ]
  },
  {
   "cell_type": "code",
   "execution_count": 18,
   "metadata": {},
   "outputs": [],
   "source": [
    "data6 = data6.withColumnRenamed('keyword','Most_Search')\n",
    "data6 = data6.select('user_id','Most_Search')"
   ]
  },
  {
   "cell_type": "code",
   "execution_count": 19,
   "metadata": {},
   "outputs": [
    {
     "name": "stdout",
     "output_type": "stream",
     "text": [
      "+--------+--------------------+\n",
      "| user_id|         Most_Search|\n",
      "+--------+--------------------+\n",
      "|97261297|  ngạ quỷ vùng tokyo|\n",
      "|97261336|tôi thấy hoa vàng...|\n",
      "| 9726134|            PLUNDERE|\n",
      "|97261342|          DAU  PHA T|\n",
      "|97261345|         running man|\n",
      "|97261346|    đời sống ngục tù|\n",
      "|97261433|            why her?|\n",
      "|97261464|      phim hoạt hình|\n",
      "|97261465|             tình cờ|\n",
      "|97261540|       phim tình cảm|\n",
      "| 9726159|chuyện tình bắc kinh|\n",
      "|97261597|       we got maried|\n",
      "|97261609|                NULL|\n",
      "|97261616|                  uu|\n",
      "|97261617|   nữ công tố viên 2|\n",
      "|97261621| Định mệnh ánh trăng|\n",
      "|97261720|     khu vườn bí mật|\n",
      "|97261877|         running man|\n",
      "|97261914|tháng 4 là lời nó...|\n",
      "|97261923|  thiên nga bóng đêm|\n",
      "+--------+--------------------+\n",
      "only showing top 20 rows\n",
      "\n"
     ]
    }
   ],
   "source": [
    "data6.show()"
   ]
  },
  {
   "cell_type": "code",
   "execution_count": 4,
   "metadata": {},
   "outputs": [],
   "source": [
    "def process_log_search(data):\n",
    "    data = data.select('user_id','keyword')\n",
    "    data = data.groupBy('user_id','keyword').count()\n",
    "    data = data.withColumnRenamed('count','TotalSearch')\n",
    "    data = data.orderBy('user_id',ascending = False )\n",
    "    window = Window.partitionBy('user_id').orderBy(col('TotalSearch').desc())\n",
    "    data = data.withColumn('Rank',row_number().over(window))\n",
    "    data = data.filter(col('Rank') == 1)\n",
    "    data = data.withColumnRenamed('keyword','Most_Search')\n",
    "    data = data.select('user_id','Most_Search')\n",
    "    return data "
   ]
  },
  {
   "cell_type": "code",
   "execution_count": 5,
   "metadata": {},
   "outputs": [],
   "source": [
    "data7 = process_log_search(data7)\n",
    "data6 = process_log_search(data6)"
   ]
  },
  {
   "cell_type": "code",
   "execution_count": 22,
   "metadata": {},
   "outputs": [
    {
     "name": "stdout",
     "output_type": "stream",
     "text": [
      "+--------+--------------------+\n",
      "| user_id|         Most_Search|\n",
      "+--------+--------------------+\n",
      "|97133188|      con tim sắt đá|\n",
      "|97133258|kẻ trộm mặt trăng...|\n",
      "|97133304|  bí mật nơi góc tối|\n",
      "|97133340|học viện anh hùng...|\n",
      "|97133411|    manh phi giá đáo|\n",
      "|97133428|nỗi vương vấn của...|\n",
      "|97133481|sáng như trăng tr...|\n",
      "|97133487|              GHIBLI|\n",
      "|97133517|   Bằng chứng thép 2|\n",
      "|97133627|anh không thích t...|\n",
      "|97133673|           Slam Dunk|\n",
      "|97133687|    phép màu kì diệu|\n",
      "| 9713370|           tây du ký|\n",
      "|97133736|         date a live|\n",
      "|97133759| khi hoa tình yêu nở|\n",
      "|97133766|               jujut|\n",
      "|97133842|         lao cuu mon|\n",
      "|97133846|          luật sư kì|\n",
      "|97133995|    ngon gio doi toi|\n",
      "|97134003|     hana yori dango|\n",
      "+--------+--------------------+\n",
      "only showing top 20 rows\n",
      "\n"
     ]
    }
   ],
   "source": [
    "data7.show()"
   ]
  },
  {
   "cell_type": "code",
   "execution_count": 6,
   "metadata": {},
   "outputs": [],
   "source": [
    "data6 = data6.withColumnRenamed('Most_Search','Most_Search_T6')\n",
    "data7 = data7.withColumnRenamed('Most_Search','Most_Search_T7')    "
   ]
  },
  {
   "cell_type": "code",
   "execution_count": 13,
   "metadata": {},
   "outputs": [],
   "source": [
    "#df_copy = df.select(*df.columns)\n",
    "data6_cp = data6.select(*data6.columns)\n",
    "data7_cp = data7.select(*data7.columns)"
   ]
  },
  {
   "cell_type": "code",
   "execution_count": 14,
   "metadata": {},
   "outputs": [],
   "source": [
    "data67 = data6_cp.join(data7_cp,on=\"user_id\",how=\"inner\")"
   ]
  },
  {
   "cell_type": "code",
   "execution_count": 15,
   "metadata": {},
   "outputs": [
    {
     "name": "stdout",
     "output_type": "stream",
     "text": [
      "+-------+-----------------+--------------------+\n",
      "|user_id|   Most_Search_T6|      Most_Search_T7|\n",
      "+-------+-----------------+--------------------+\n",
      "|0003361|      tây hành kỷ|         lộc đỉnh ký|\n",
      "|0005748|lời nguyền ma lai|chuyen sinh thanh...|\n",
      "+-------+-----------------+--------------------+\n",
      "only showing top 2 rows\n",
      "\n"
     ]
    }
   ],
   "source": [
    "data67.show(2)"
   ]
  },
  {
   "cell_type": "code",
   "execution_count": 16,
   "metadata": {},
   "outputs": [
    {
     "name": "stdout",
     "output_type": "stream",
     "text": [
      "+--------------------+--------+--------------------+-----------+\n",
      "|      Most_Search_T6| user_id|      Most_Search_T7|Category_T6|\n",
      "+--------------------+--------+--------------------+-----------+\n",
      "|   lời nguyền ma lai| 0005748|chuyen sinh thanh...| TV Series |\n",
      "|    công chúa aurora| 0101498|   nam cung phu nhân| TV Series |\n",
      "|  vương giả thiên hạ| 0150958|            dr stone| TV Series |\n",
      "|yêu em từ cái nhì...| 0153643|hắc bạch vô song ...| TV Series |\n",
      "|                 eve| 0176335|   nikita (season 2)| TV Series |\n",
      "|       bắt ma phá án| 0218698|   khách sạn ma quái| TV Series |\n",
      "|lấy danh nghĩa ng...| 0231670|         PACIFIC RIM| TV Series |\n",
      "|        hoàng hậu ki| 0261295|   nguy cơ tiên sinh| TV Series |\n",
      "|     minh lan truyện| 0262016|hoa nở đêm trăng thu| TV Series |\n",
      "|     love in sadness| 0318156|nhất kiến khuynh tâm| TV Series |\n",
      "|        mộng hoa lục| 0392220|          nữ luật sự| TV Series |\n",
      "|        mộng hoa lục| 0392220|          nữ luật sự| TV Series |\n",
      "|      prime provider| 0417719|      prime provider| TV Series |\n",
      "|      jujutsu kaisen| 0459757|           classroom|     Anime |\n",
      "|    vẻ đẹp đích thực| 0479873|                anna| TV Series |\n",
      "|           siêu nhân| 0534415|   đội bay siêu đẳng|      Movie|\n",
      "|           đông cung| 0537443|      cá mực hầm mật| TV Series |\n",
      "|kết hôn rồi bắt đ...|06006118|               LUU L| TV Series |\n",
      "|hương mật tựa khó...|06007445|  lưu ly mỹ nhân sát| TV Series |\n",
      "|     love in sadness|06007892|nụ hôn của giác q...| TV Series |\n",
      "+--------------------+--------+--------------------+-----------+\n",
      "only showing top 20 rows\n",
      "\n"
     ]
    }
   ],
   "source": [
    "data67 = data67.limit(1000)\n",
    "map6 = spark.read.csv(Mappath1,header=True)\n",
    "data67 = data67.join(map6,on=\"Most_Search_T6\",how=\"inner\")\n",
    "data67.show()"
   ]
  },
  {
   "cell_type": "code",
   "execution_count": 20,
   "metadata": {},
   "outputs": [],
   "source": [
    "map7 = spark.read.csv(Mappath2,header=True)\n",
    "data67 = data67.join(map7,on=\"Most_Search_T7\",how=\"inner\")"
   ]
  },
  {
   "cell_type": "code",
   "execution_count": 21,
   "metadata": {},
   "outputs": [
    {
     "name": "stdout",
     "output_type": "stream",
     "text": [
      "+--------------------+-----------------+--------+-----------+-----------+\n",
      "|      Most_Search_T7|   Most_Search_T6| user_id|Category_T6|Category_T7|\n",
      "+--------------------+-----------------+--------+-----------+-----------+\n",
      "|nhất kiến khuynh tâm|  love in sadness| 0318156| TV Series |  TV Series|\n",
      "|      prime provider|   prime provider| 0417719| TV Series |  TV Series|\n",
      "|                anna| vẻ đẹp đích thực| 0479873| TV Series |      Movie|\n",
      "|      cá mực hầm mật|        đông cung| 0537443| TV Series |  TV Series|\n",
      "|      con tim sắt đá|  love in sadness|06016004| TV Series |  TV Series|\n",
      "|    hậu duệ mặt trời|         sao băng|06016278| TV Series |  TV Series|\n",
      "|          fairy tail|        one piece|06028085|     Anime |      Anime|\n",
      "|Thử Thách Thần Tượng|          ẩn danh|06028711| TV Series |    TV Show|\n",
      "|          fairy tail|       fairy tail|06039284|     Anime |      Anime|\n",
      "|    oán hận phải trả| thâm kế độc tình|06042523| TV Series |  TV Series|\n",
      "|     phi vụ triệu đô|           goblin|06043956| TV Series | TV Series |\n",
      "|               voice|            mouse|06048545|     Anime |  TV Series|\n",
      "|      tranh thiên hạ|   vượt ra tội ác|06069575| TV Series |  TV Series|\n",
      "|    kẻ cắp mặt trăng|           goblin|06083877| TV Series |      Movie|\n",
      "|  thiên nga bóng đêm|yêu từng centimet|06090764| TV Series |  TV Series|\n",
      "| chú thuật hồi chiến|   jujutsu kaisen|06096344|     Anime |     Sports|\n",
      "|những người thừa...|     hoàng hậu ki| 0615644| TV Series | TV Series |\n",
      "|nhất kiến khuynh tâm|   cá mực hầm mật| 0631629| TV Series |  TV Series|\n",
      "|  bí mật nơi góc tối| vẻ đẹp đích thực|06401908| TV Series |  TV Series|\n",
      "|    tái sinh báo thù|        bác sĩ ma|06405607| TV Series | TV Series |\n",
      "+--------------------+-----------------+--------+-----------+-----------+\n",
      "only showing top 20 rows\n",
      "\n"
     ]
    }
   ],
   "source": [
    "data67.show()"
   ]
  },
  {
   "cell_type": "code",
   "execution_count": 25,
   "metadata": {},
   "outputs": [],
   "source": [
    "data67 = data67.withColumn('CATEGORY_T6',trim(data67.Category_T6))"
   ]
  },
  {
   "cell_type": "code",
   "execution_count": 26,
   "metadata": {},
   "outputs": [],
   "source": [
    "data67 = data67.withColumn('CATEGORY_T7',trim(data67.Category_T7))"
   ]
  },
  {
   "cell_type": "code",
   "execution_count": 27,
   "metadata": {},
   "outputs": [
    {
     "name": "stdout",
     "output_type": "stream",
     "text": [
      "+--------------------+-----------------+--------+-----------+-----------+\n",
      "|      Most_Search_T7|   Most_Search_T6| user_id|CATEGORY_T6|CATEGORY_T7|\n",
      "+--------------------+-----------------+--------+-----------+-----------+\n",
      "|nhất kiến khuynh tâm|  love in sadness| 0318156|  TV Series|  TV Series|\n",
      "|      prime provider|   prime provider| 0417719|  TV Series|  TV Series|\n",
      "|                anna| vẻ đẹp đích thực| 0479873|  TV Series|      Movie|\n",
      "|      cá mực hầm mật|        đông cung| 0537443|  TV Series|  TV Series|\n",
      "|      con tim sắt đá|  love in sadness|06016004|  TV Series|  TV Series|\n",
      "|    hậu duệ mặt trời|         sao băng|06016278|  TV Series|  TV Series|\n",
      "|          fairy tail|        one piece|06028085|      Anime|      Anime|\n",
      "|Thử Thách Thần Tượng|          ẩn danh|06028711|  TV Series|    TV Show|\n",
      "|          fairy tail|       fairy tail|06039284|      Anime|      Anime|\n",
      "|    oán hận phải trả| thâm kế độc tình|06042523|  TV Series|  TV Series|\n",
      "|     phi vụ triệu đô|           goblin|06043956|  TV Series|  TV Series|\n",
      "|               voice|            mouse|06048545|      Anime|  TV Series|\n",
      "|      tranh thiên hạ|   vượt ra tội ác|06069575|  TV Series|  TV Series|\n",
      "|    kẻ cắp mặt trăng|           goblin|06083877|  TV Series|      Movie|\n",
      "|  thiên nga bóng đêm|yêu từng centimet|06090764|  TV Series|  TV Series|\n",
      "| chú thuật hồi chiến|   jujutsu kaisen|06096344|      Anime|     Sports|\n",
      "|những người thừa...|     hoàng hậu ki| 0615644|  TV Series|  TV Series|\n",
      "|nhất kiến khuynh tâm|   cá mực hầm mật| 0631629|  TV Series|  TV Series|\n",
      "|  bí mật nơi góc tối| vẻ đẹp đích thực|06401908|  TV Series|  TV Series|\n",
      "|    tái sinh báo thù|        bác sĩ ma|06405607|  TV Series|  TV Series|\n",
      "+--------------------+-----------------+--------+-----------+-----------+\n",
      "only showing top 20 rows\n",
      "\n"
     ]
    }
   ],
   "source": [
    "data67.show()"
   ]
  },
  {
   "cell_type": "code",
   "execution_count": 28,
   "metadata": {},
   "outputs": [],
   "source": [
    "data67 = data67.withColumn(\"Trending_Type\",when(col(\"CATEGORY_T6\") == col(\"CATEGORY_T7\"),\"Unchanged\").otherwise(\"Changed\"))"
   ]
  },
  {
   "cell_type": "code",
   "execution_count": 29,
   "metadata": {},
   "outputs": [
    {
     "name": "stdout",
     "output_type": "stream",
     "text": [
      "+--------------------+-----------------+--------+-----------+-----------+-------------+\n",
      "|      Most_Search_T7|   Most_Search_T6| user_id|CATEGORY_T6|CATEGORY_T7|Trending_Type|\n",
      "+--------------------+-----------------+--------+-----------+-----------+-------------+\n",
      "|nhất kiến khuynh tâm|  love in sadness| 0318156|  TV Series|  TV Series|    Unchanged|\n",
      "|      prime provider|   prime provider| 0417719|  TV Series|  TV Series|    Unchanged|\n",
      "|                anna| vẻ đẹp đích thực| 0479873|  TV Series|      Movie|      Changed|\n",
      "|      cá mực hầm mật|        đông cung| 0537443|  TV Series|  TV Series|    Unchanged|\n",
      "|      con tim sắt đá|  love in sadness|06016004|  TV Series|  TV Series|    Unchanged|\n",
      "|    hậu duệ mặt trời|         sao băng|06016278|  TV Series|  TV Series|    Unchanged|\n",
      "|          fairy tail|        one piece|06028085|      Anime|      Anime|    Unchanged|\n",
      "|Thử Thách Thần Tượng|          ẩn danh|06028711|  TV Series|    TV Show|      Changed|\n",
      "|          fairy tail|       fairy tail|06039284|      Anime|      Anime|    Unchanged|\n",
      "|    oán hận phải trả| thâm kế độc tình|06042523|  TV Series|  TV Series|    Unchanged|\n",
      "|     phi vụ triệu đô|           goblin|06043956|  TV Series|  TV Series|    Unchanged|\n",
      "|               voice|            mouse|06048545|      Anime|  TV Series|      Changed|\n",
      "|      tranh thiên hạ|   vượt ra tội ác|06069575|  TV Series|  TV Series|    Unchanged|\n",
      "|    kẻ cắp mặt trăng|           goblin|06083877|  TV Series|      Movie|      Changed|\n",
      "|  thiên nga bóng đêm|yêu từng centimet|06090764|  TV Series|  TV Series|    Unchanged|\n",
      "| chú thuật hồi chiến|   jujutsu kaisen|06096344|      Anime|     Sports|      Changed|\n",
      "|những người thừa...|     hoàng hậu ki| 0615644|  TV Series|  TV Series|    Unchanged|\n",
      "|nhất kiến khuynh tâm|   cá mực hầm mật| 0631629|  TV Series|  TV Series|    Unchanged|\n",
      "|  bí mật nơi góc tối| vẻ đẹp đích thực|06401908|  TV Series|  TV Series|    Unchanged|\n",
      "|    tái sinh báo thù|        bác sĩ ma|06405607|  TV Series|  TV Series|    Unchanged|\n",
      "+--------------------+-----------------+--------+-----------+-----------+-------------+\n",
      "only showing top 20 rows\n",
      "\n"
     ]
    }
   ],
   "source": [
    "data67.show()"
   ]
  },
  {
   "cell_type": "code",
   "execution_count": 30,
   "metadata": {},
   "outputs": [],
   "source": [
    "data6_cp2 = data6.select(*data6.columns)\n",
    "data7_cp2 = data7.select(*data7.columns)"
   ]
  },
  {
   "cell_type": "code",
   "execution_count": 33,
   "metadata": {},
   "outputs": [],
   "source": [
    "data6_cp2 = data6_cp2.join(map6,on='Most_Search_T6',how='inner')"
   ]
  },
  {
   "cell_type": "code",
   "execution_count": 34,
   "metadata": {},
   "outputs": [],
   "source": [
    "data7_cp2 = data7_cp2.join(map7,on='Most_Search_T7',how='inner')"
   ]
  },
  {
   "cell_type": "code",
   "execution_count": 35,
   "metadata": {},
   "outputs": [],
   "source": [
    "data67_2 = data6_cp2.join(data7_cp2,on='user_id',how='inner')"
   ]
  },
  {
   "cell_type": "code",
   "execution_count": 37,
   "metadata": {},
   "outputs": [
    {
     "name": "stdout",
     "output_type": "stream",
     "text": [
      "+--------+--------------------+-----------+--------------------+-------------+\n",
      "| user_id|      Most_Search_T6|Category_T6|      Most_Search_T7|  Category_T7|\n",
      "+--------+--------------------+-----------+--------------------+-------------+\n",
      "|97947758|    tam sinh tam thế| TV Series |định mệnh anh yêu em|    TV Series|\n",
      "|98613952|               conan|     Anime |               conan|        Anime|\n",
      "|98741227|      vượt ra tội ác| TV Series |          reply 1988|Sports Event |\n",
      "|99542807|thanh gươm diệt q...|     Anime |              boruto|        Anime|\n",
      "|99614186|    minh châu rực rỡ| TV Series |                anna|        Movie|\n",
      "| 9991480|  thiên nga bóng đêm| TV Series |  thiên nga bóng đêm|    TV Series|\n",
      "|99943742|            why her?| TV Series |          reply 1988|Sports Event |\n",
      "|99197631|        nơi đảo xanh| TV Series |kẻ trộm mặt trăng...|        Movie|\n",
      "|99214841|harry potter: cuộ...|     Movie |         running man|      TV Show|\n",
      "|99840878|              bolero|Music Show |              bolero|    TV Series|\n",
      "|99847059|            why her?| TV Series |           chàng hậu|    TV Series|\n",
      "|97457381|khi màn đêm gợn sóng| TV Series | hẹn hò chốn công sở|    TV Series|\n",
      "| 9769137|bạn trai tôi là h...| TV Series |nhất kiến khuynh tâm|    TV Series|\n",
      "|97924696|         be mbitious| TV Series |            mbitious|    TV Series|\n",
      "|98024051|           siêu nhân|      Movie|              bolero|    TV Series|\n",
      "|98970972|cuối cùng cũng đế...| TV Series |      cá mực hầm mật|    TV Series|\n",
      "|99589033|lấy danh nghĩa ng...| TV Series |   bên nhau trọn đời|    TV Series|\n",
      "|98482949|tại sao lại là oh...| TV Series |                anna|        Movie|\n",
      "|98567553|    đời sống ngục tù| TV Series |    chân hoàn truyện|    TV Series|\n",
      "|99130049|người lạ đến từ đ...| TV Series |tại sao lại là oh...|    TV Series|\n",
      "+--------+--------------------+-----------+--------------------+-------------+\n",
      "only showing top 20 rows\n",
      "\n"
     ]
    }
   ],
   "source": [
    "data67_2.show()"
   ]
  },
  {
   "cell_type": "code",
   "execution_count": 38,
   "metadata": {},
   "outputs": [],
   "source": [
    "data67_2 = data67_2.withColumn('CATEGORY_T6',trim(data67_2.Category_T6))\n",
    "data67_2 = data67_2.withColumn('CATEGORY_T7',trim(data67_2.Category_T7))"
   ]
  },
  {
   "cell_type": "code",
   "execution_count": 39,
   "metadata": {},
   "outputs": [],
   "source": [
    "data67_2 = data67_2.withColumn(\"Trending_Type\",when(col(\"CATEGORY_T6\") == col(\"CATEGORY_T7\"),\"Unchanged\").otherwise(\"Changed\"))"
   ]
  },
  {
   "cell_type": "code",
   "execution_count": 40,
   "metadata": {},
   "outputs": [],
   "source": [
    "data67_2 = data67_2.withColumn(\"Previous\", when(col(\"Trending_Type\") != \"Unchanged\", concat_ws(\" to \", col(\"CATEGORY_T6\"), col(\"CATEGORY_T7\"))).otherwise(\"Unchanged\"))"
   ]
  },
  {
   "cell_type": "code",
   "execution_count": 41,
   "metadata": {},
   "outputs": [
    {
     "name": "stdout",
     "output_type": "stream",
     "text": [
      "+--------+--------------------+-----------+--------------------+------------+-------------+--------------------+\n",
      "| user_id|      Most_Search_T6|CATEGORY_T6|      Most_Search_T7| CATEGORY_T7|Trending_Type|            Previous|\n",
      "+--------+--------------------+-----------+--------------------+------------+-------------+--------------------+\n",
      "|97447399|  thiên nga bóng đêm|  TV Series|     phi vụ triệu đô|   TV Series|    Unchanged|           Unchanged|\n",
      "|97947758|    tam sinh tam thế|  TV Series|định mệnh anh yêu em|   TV Series|    Unchanged|           Unchanged|\n",
      "|98613952|               conan|      Anime|               conan|       Anime|    Unchanged|           Unchanged|\n",
      "|98741227|      vượt ra tội ác|  TV Series|          reply 1988|Sports Event|      Changed|TV Series to Spor...|\n",
      "|99542807|thanh gươm diệt q...|      Anime|              boruto|       Anime|    Unchanged|           Unchanged|\n",
      "|99614186|    minh châu rực rỡ|  TV Series|                anna|       Movie|      Changed|  TV Series to Movie|\n",
      "| 9991480|  thiên nga bóng đêm|  TV Series|  thiên nga bóng đêm|   TV Series|    Unchanged|           Unchanged|\n",
      "|99943742|            why her?|  TV Series|          reply 1988|Sports Event|      Changed|TV Series to Spor...|\n",
      "|99197631|        nơi đảo xanh|  TV Series|kẻ trộm mặt trăng...|       Movie|      Changed|  TV Series to Movie|\n",
      "|99214841|harry potter: cuộ...|      Movie|         running man|     TV Show|      Changed|    Movie to TV Show|\n",
      "|99840878|              bolero| Music Show|              bolero|   TV Series|      Changed|Music Show to TV ...|\n",
      "|99847059|            why her?|  TV Series|           chàng hậu|   TV Series|    Unchanged|           Unchanged|\n",
      "|97457381|khi màn đêm gợn sóng|  TV Series| hẹn hò chốn công sở|   TV Series|    Unchanged|           Unchanged|\n",
      "| 9769137|bạn trai tôi là h...|  TV Series|nhất kiến khuynh tâm|   TV Series|    Unchanged|           Unchanged|\n",
      "|97924696|         be mbitious|  TV Series|            mbitious|   TV Series|    Unchanged|           Unchanged|\n",
      "|98024051|           siêu nhân|      Movie|              bolero|   TV Series|      Changed|  Movie to TV Series|\n",
      "|98970972|cuối cùng cũng đế...|  TV Series|      cá mực hầm mật|   TV Series|    Unchanged|           Unchanged|\n",
      "|99589033|lấy danh nghĩa ng...|  TV Series|   bên nhau trọn đời|   TV Series|    Unchanged|           Unchanged|\n",
      "|98482949|tại sao lại là oh...|  TV Series|                anna|       Movie|      Changed|  TV Series to Movie|\n",
      "|98567553|    đời sống ngục tù|  TV Series|    chân hoàn truyện|   TV Series|    Unchanged|           Unchanged|\n",
      "+--------+--------------------+-----------+--------------------+------------+-------------+--------------------+\n",
      "only showing top 20 rows\n",
      "\n"
     ]
    }
   ],
   "source": [
    "data67_2.show()"
   ]
  },
  {
   "cell_type": "code",
   "execution_count": null,
   "metadata": {},
   "outputs": [],
   "source": []
  }
 ],
 "metadata": {
  "kernelspec": {
   "display_name": "base",
   "language": "python",
   "name": "python3"
  },
  "language_info": {
   "codemirror_mode": {
    "name": "ipython",
    "version": 3
   },
   "file_extension": ".py",
   "mimetype": "text/x-python",
   "name": "python",
   "nbconvert_exporter": "python",
   "pygments_lexer": "ipython3",
   "version": "3.11.5"
  }
 },
 "nbformat": 4,
 "nbformat_minor": 2
}
