{
 "cells": [
  {
   "cell_type": "code",
   "execution_count": 16,
   "metadata": {},
   "outputs": [],
   "source": [
    "from pyspark.sql import SparkSession\n",
    "from pyspark.sql.functions import col\n",
    "from pyspark.sql.functions import to_timestamp\n",
    "from pyspark.sql.functions import when\n",
    "import pyspark.sql.functions as sf\n",
    "import os\n",
    "from pyspark.sql.functions import lit\n",
    "from pyspark.sql.types import StructType, StructField, StringType, IntegerType\n",
    "from pyspark.sql.functions import *\n",
    "from pyspark.sql.functions import col, to_date, date_format"
   ]
  },
  {
   "cell_type": "code",
   "execution_count": 2,
   "metadata": {},
   "outputs": [],
   "source": [
    "spark = SparkSession.builder.config('spark.driver.memory','4g').getOrCreate()\n",
    "filenamedatapath = \"d:\\\\LEARNING\\\\Study_DE\\\\Data\\\\Dataset\\\\log_content\\\\\"\n",
    "savepath = \"D:\\\\KQ\\\\result\\\\output.csv\""
   ]
  },
  {
   "cell_type": "code",
   "execution_count": 3,
   "metadata": {},
   "outputs": [],
   "source": [
    "listStr = []\n",
    "listInt = list(range(20220401,20220405 + 1))\n",
    "for item in listInt:\n",
    "    listStr.append(str(item))\n",
    "filesname = [filenamedatapath + fname + \".json\" for fname in listStr]"
   ]
  },
  {
   "cell_type": "code",
   "execution_count": 4,
   "metadata": {},
   "outputs": [],
   "source": [
    "schema = StructType([\n",
    "        StructField(\"AppName\", StringType(), True),\n",
    "        StructField(\"Contract\", StringType(), True),\n",
    "        StructField(\"Mac\", StringType(), True),\n",
    "        StructField(\"TotalDuration\", IntegerType(), True),\n",
    "        StructField(\"Date\", StringType(), True)\n",
    "    ])\n",
    "outputData = spark.createDataFrame([], schema=schema)\n",
    "\n",
    "for name in filesname:\n",
    "        df = spark.read.json(name)\n",
    "        df = df.select('_source.*')\n",
    "\n",
    "        date = os.path.basename(name)\n",
    "        date_str = date.split('.')[0]\n",
    "\n",
    "        df = df.withColumn(\"Date\",lit(date_str))\n",
    "\n",
    "        outputData = outputData.union(df)\n",
    "\n",
    "        #print(\"Done\")"
   ]
  },
  {
   "cell_type": "code",
   "execution_count": 5,
   "metadata": {},
   "outputs": [],
   "source": [
    "outputData = outputData.withColumn('Contract',trim(outputData.Contract))"
   ]
  },
  {
   "cell_type": "code",
   "execution_count": 6,
   "metadata": {},
   "outputs": [
    {
     "name": "stdout",
     "output_type": "stream",
     "text": [
      "+-------+---------+------------+-------------+--------+\n",
      "|AppName| Contract|         Mac|TotalDuration|    Date|\n",
      "+-------+---------+------------+-------------+--------+\n",
      "|  KPLUS|HNH579912|0C96E62FC55C|          254|20220401|\n",
      "|  KPLUS|HUFD40665|CCEDDC333614|         1457|20220401|\n",
      "|  KPLUS|HNH572635|B068E6A1C5F6|         2318|20220401|\n",
      "|  KPLUS|HND141717|08674EE8D2C2|         1452|20220401|\n",
      "|  KPLUS|HNH743103|402343C25D7D|          251|20220401|\n",
      "+-------+---------+------------+-------------+--------+\n",
      "only showing top 5 rows\n",
      "\n"
     ]
    }
   ],
   "source": [
    "outputData.show(5)"
   ]
  },
  {
   "cell_type": "code",
   "execution_count": 7,
   "metadata": {},
   "outputs": [
    {
     "name": "stdout",
     "output_type": "stream",
     "text": [
      "Chuẩn hóa AppName xong\n",
      "GroupBy xong\n",
      "Pivot xong\n"
     ]
    }
   ],
   "source": [
    "outputData = outputData.withColumn(\"Type\",when((col(\"AppName\") == 'CHANNEL') | (col(\"AppName\") =='DSHD')| (col(\"AppName\") =='KPLUS')| (col(\"AppName\") =='KPlus'), \"Truyền Hình\")\n",
    "        .when((col(\"AppName\") == 'VOD') | (col(\"AppName\") =='FIMS_RES')| (col(\"AppName\") =='BHD_RES')| \n",
    "             (col(\"AppName\") =='VOD_RES')| (col(\"AppName\") =='FIMS')| (col(\"AppName\") =='BHD')| (col(\"AppName\") =='DANET'), \"Phim Truyện\")\n",
    "        .when((col(\"AppName\") == 'RELAX')|(col(\"AppName\") == 'APP'), \"Giải Trí\")\n",
    "        .when((col(\"AppName\") == 'CHILD'), \"Thiếu Nhi\")\n",
    "        .when((col(\"AppName\") == 'SPORT'), \"Thể Thao\")\n",
    "        .otherwise(\"Error\"))\n",
    "    \n",
    "print(\"Chuẩn hóa AppName xong\")\n",
    "\n",
    "outputData = outputData.groupBy('Contract','Type','Date').sum('TotalDuration').withColumnRenamed('sum(TotalDuration)','TotalDuration')\n",
    "print(\"GroupBy xong\")\n",
    "\n",
    "outputData = outputData.groupBy('Contract','Date').pivot('Type').sum('TotalDuration')\n",
    "print(\"Pivot xong\")"
   ]
  },
  {
   "cell_type": "code",
   "execution_count": 8,
   "metadata": {},
   "outputs": [],
   "source": [
    "outputData = outputData.withColumnsRenamed({'Giải Trí':'RelaxDuration','Phim Truyện':'MovieDuration',\n",
    "                                                'Thiếu nhi':'ChildDuration','Thể Thao':'SportDuration','Truyền Hình':'TVDuration'})\n",
    "outputData = outputData.fillna(0)"
   ]
  },
  {
   "cell_type": "code",
   "execution_count": 9,
   "metadata": {},
   "outputs": [],
   "source": [
    "most_watch = greatest(col(\"RelaxDuration\"),col(\"MovieDuration\"),col(\"ChildDuration\"),col(\"SportDuration\"),col(\"TVDuration\"))\n",
    "\n",
    "outputData = outputData.withColumn(\"Most_Watch\",when((col(\"RelaxDuration\") == most_watch),'Relax').\n",
    "              when((col(\"MovieDuration\") == most_watch),'Movie').\n",
    "              when((col(\"ChildDuration\") == most_watch),'Child').\n",
    "              when((col(\"SportDuration\") == most_watch),'Sport').\n",
    "              when((col(\"TVDuration\") == most_watch),'TV'))"
   ]
  },
  {
   "cell_type": "code",
   "execution_count": 10,
   "metadata": {},
   "outputs": [],
   "source": [
    "cust_taste = concat_ws(',',when(col(\"RelaxDuration\") != 0 ,'Relax'),\n",
    "                       when(col(\"MovieDuration\") != 0 ,'Movie'),\n",
    "                       when(col(\"ChildDuration\") != 0 ,'Child'),\n",
    "                       when(col(\"SportDuration\") != 0 ,'Sport'),\n",
    "                       when(col(\"TVDuration\") != 0 ,'TV'))\n",
    "\n",
    "outputData = outputData.withColumn('Customer_Taste', cust_taste)\n",
    "outputData = outputData.withColumn(\"Customer_Taste\",when(col('Customer_Taste') == 'Relax,Movie,Child,Sport,TV','ALL').otherwise(col(\"Customer_taste\")))"
   ]
  },
  {
   "cell_type": "code",
   "execution_count": 11,
   "metadata": {},
   "outputs": [
    {
     "name": "stdout",
     "output_type": "stream",
     "text": [
      "+---------+------------------+\n",
      "| Contract|Number_Active_Date|\n",
      "+---------+------------------+\n",
      "|BID006982|                 5|\n",
      "|TBFD06119|                 5|\n",
      "|SGH592445|                 5|\n",
      "|HNH579514|                 5|\n",
      "|BED003648|                 5|\n",
      "|SGH068360|                 4|\n",
      "|DAD046926|                 5|\n",
      "|VLFD04186|                 3|\n",
      "|BDH053839|                 5|\n",
      "|SGH729350|                 5|\n",
      "|HNJ158334|                 5|\n",
      "|BGD025937|                 5|\n",
      "|HNH720916|                 5|\n",
      "|SLD000654|                 5|\n",
      "|HYFD35051|                 5|\n",
      "|GLFD18874|                 5|\n",
      "|DAFD39282|                 5|\n",
      "|QNFD87881|                 5|\n",
      "|HDFD42710|                 5|\n",
      "|PTFD05875|                 5|\n",
      "+---------+------------------+\n",
      "only showing top 20 rows\n",
      "\n"
     ]
    }
   ],
   "source": [
    "outputData.groupby(\"Contract\").agg(count(col(\"Contract\")).alias(\"Number_Active_Date\")).show()"
   ]
  },
  {
   "cell_type": "code",
   "execution_count": 12,
   "metadata": {},
   "outputs": [],
   "source": [
    "count_active_date = outputData.groupby(\"Contract\").agg(count(col(\"Contract\")).alias(\"Number_Active_Date\"))"
   ]
  },
  {
   "cell_type": "code",
   "execution_count": 13,
   "metadata": {},
   "outputs": [
    {
     "name": "stdout",
     "output_type": "stream",
     "text": [
      "+---------+------------------+\n",
      "| Contract|Number_Active_Date|\n",
      "+---------+------------------+\n",
      "|BID006982|                 5|\n",
      "+---------+------------------+\n",
      "\n"
     ]
    }
   ],
   "source": [
    "count_active_date.filter(col('Contract') == 'BID006982').show()"
   ]
  },
  {
   "cell_type": "code",
   "execution_count": 22,
   "metadata": {},
   "outputs": [
    {
     "name": "stdout",
     "output_type": "stream",
     "text": [
      "+---------+--------+-------------+-------------+-------------+-------------+----------+----------+--------------+------------------+\n",
      "| Contract|    Date|RelaxDuration|MovieDuration|ChildDuration|SportDuration|TVDuration|Most_Watch|Customer_Taste|Number_Active_Date|\n",
      "+---------+--------+-------------+-------------+-------------+-------------+----------+----------+--------------+------------------+\n",
      "|AGFD14221|20220401|            0|         9267|            0|            0|      8721|     Movie|      Movie,TV|                 5|\n",
      "|BEFD22243|20220401|            0|            0|            0|            0|        40|        TV|            TV|                 4|\n",
      "|DAFD76913|20220401|            0|           87|            0|            0|     59709|        TV|      Movie,TV|                 5|\n",
      "|HND075685|20220401|            0|            0|            0|            0|     79984|        TV|            TV|                 5|\n",
      "|HND330927|20220401|            0|         1457|            0|            0|     19681|        TV|      Movie,TV|                 5|\n",
      "|HNH240970|20220401|            0|            0|            0|            0|     49852|        TV|            TV|                 5|\n",
      "|HNH288240|20220401|            0|            0|            0|            0|     42128|        TV|            TV|                 5|\n",
      "|HNH566708|20220401|            0|         5192|            0|            0|     21773|        TV|      Movie,TV|                 5|\n",
      "|HNH604532|20220401|            0|          347|            0|            0|     33521|        TV|      Movie,TV|                 5|\n",
      "|HNH640040|20220401|            0|            0|            0|            0|     21762|        TV|            TV|                 5|\n",
      "|HNH750360|20220401|            0|            0|            0|            0|     16893|        TV|            TV|                 4|\n",
      "|HTFD14951|20220401|            0|            0|            0|            0|      1110|        TV|            TV|                 5|\n",
      "|LDFD13028|20220401|            0|            0|            0|            0|     68727|        TV|            TV|                 5|\n",
      "|LSFD12973|20220401|            0|            0|            0|            0|     83983|        TV|            TV|                 5|\n",
      "|LSFD17261|20220401|            0|            0|            0|            0|     11773|        TV|            TV|                 5|\n",
      "|NDFD13360|20220401|            0|        18481|            0|            0|      1112|     Movie|      Movie,TV|                 3|\n",
      "|NTFD93872|20220401|            0|            0|            0|            0|       224|        TV|            TV|                 5|\n",
      "|PTFD23845|20220401|            0|         8352|            0|            0|     14592|        TV|      Movie,TV|                 4|\n",
      "|QNFD05730|20220401|            0|         3512|            0|            0|      8369|        TV|      Movie,TV|                 5|\n",
      "|QNFD59411|20220401|            0|            0|            0|            0|      1235|        TV|            TV|                 5|\n",
      "+---------+--------+-------------+-------------+-------------+-------------+----------+----------+--------------+------------------+\n",
      "only showing top 20 rows\n",
      "\n"
     ]
    }
   ],
   "source": [
    "outputData.join(count_active_date,on = \"Contract\",how = 'left').show()"
   ]
  },
  {
   "cell_type": "code",
   "execution_count": 14,
   "metadata": {},
   "outputs": [],
   "source": [
    "outputData = outputData.join(count_active_date,on = \"Contract\",how = 'left')"
   ]
  },
  {
   "cell_type": "code",
   "execution_count": 15,
   "metadata": {},
   "outputs": [],
   "source": [
    "outputData = outputData.withColumn('Activeness', format_number((col(\"Number_Active_Date\") / 30) * 100, 2))"
   ]
  },
  {
   "cell_type": "code",
   "execution_count": 24,
   "metadata": {},
   "outputs": [
    {
     "name": "stdout",
     "output_type": "stream",
     "text": [
      "+---------+--------+-------------+-------------+-------------+-------------+----------+----------+--------------+------------------+\n",
      "| Contract|    Date|RelaxDuration|MovieDuration|ChildDuration|SportDuration|TVDuration|Most_Watch|Customer_Taste|Number_Active_Date|\n",
      "+---------+--------+-------------+-------------+-------------+-------------+----------+----------+--------------+------------------+\n",
      "|BID006982|20220401|        10315|         1083|            0|            0|       962|     Relax|Relax,Movie,TV|                 5|\n",
      "|BID006982|20220404|            0|         4991|            0|            0|      1685|     Movie|      Movie,TV|                 5|\n",
      "|BID006982|20220405|            0|         3216|            0|            0|         0|     Movie|         Movie|                 5|\n",
      "|BID006982|20220403|           33|         2073|            0|            0|        13|     Movie|Relax,Movie,TV|                 5|\n",
      "|BID006982|20220402|        47301|            0|            0|            0|         0|     Relax|         Relax|                 5|\n",
      "+---------+--------+-------------+-------------+-------------+-------------+----------+----------+--------------+------------------+\n",
      "\n"
     ]
    }
   ],
   "source": [
    "outputData.filter(col('Contract') == 'BID006982').show()"
   ]
  },
  {
   "cell_type": "code",
   "execution_count": 22,
   "metadata": {},
   "outputs": [
    {
     "name": "stdout",
     "output_type": "stream",
     "text": [
      "+---------+--------+-------------+-------------+-------------+-------------+----------+----------+--------------+------------------+----------+\n",
      "| Contract|    Date|RelaxDuration|MovieDuration|ChildDuration|SportDuration|TVDuration|Most_Watch|Customer_Taste|Number_Active_Date|Activeness|\n",
      "+---------+--------+-------------+-------------+-------------+-------------+----------+----------+--------------+------------------+----------+\n",
      "|AGFD14221|20220401|            0|         9267|            0|            0|      8721|     Movie|      Movie,TV|                 5|     16.67|\n",
      "|BEFD22243|20220401|            0|            0|            0|            0|        40|        TV|            TV|                 4|     13.33|\n",
      "|NDFD13360|20220401|            0|        18481|            0|            0|      1112|     Movie|      Movie,TV|                 3|     10.00|\n",
      "|VLFD11547|20220401|            0|            0|            0|            0|     82434|        TV|            TV|                 3|     10.00|\n",
      "|DAFD62641|20220401|            0|            0|            0|            0|     49733|        TV|            TV|                 5|     16.67|\n",
      "+---------+--------+-------------+-------------+-------------+-------------+----------+----------+--------------+------------------+----------+\n",
      "only showing top 5 rows\n",
      "\n"
     ]
    }
   ],
   "source": [
    "outputData.show(5)"
   ]
  },
  {
   "cell_type": "code",
   "execution_count": 22,
   "metadata": {},
   "outputs": [],
   "source": [
    "outputData = outputData.withColumn(\"Date\",date_format(to_date(col('Date'),'yyyyMMdd'),'yyyy-MM-dd'))"
   ]
  },
  {
   "cell_type": "code",
   "execution_count": 23,
   "metadata": {},
   "outputs": [
    {
     "name": "stdout",
     "output_type": "stream",
     "text": [
      "+---------+----------+-------------+-------------+-------------+-------------+----------+----------+--------------+------------------+----------+\n",
      "| Contract|      Date|RelaxDuration|MovieDuration|ChildDuration|SportDuration|TVDuration|Most_Watch|Customer_Taste|Number_Active_Date|Activeness|\n",
      "+---------+----------+-------------+-------------+-------------+-------------+----------+----------+--------------+------------------+----------+\n",
      "|BEFD22243|2022-04-01|            0|            0|            0|            0|        40|        TV|            TV|                 4|     13.33|\n",
      "|NDFD13360|2022-04-01|            0|        18481|            0|            0|      1112|     Movie|      Movie,TV|                 3|     10.00|\n",
      "|VLFD11547|2022-04-01|            0|            0|            0|            0|     82434|        TV|            TV|                 3|     10.00|\n",
      "+---------+----------+-------------+-------------+-------------+-------------+----------+----------+--------------+------------------+----------+\n",
      "only showing top 3 rows\n",
      "\n"
     ]
    }
   ],
   "source": [
    "outputData.show(3)"
   ]
  },
  {
   "cell_type": "code",
   "execution_count": 23,
   "metadata": {},
   "outputs": [],
   "source": [
    "def import_To_MySql(data,dbname,table_name,username,password):\n",
    "    \n",
    "    data.write \\\n",
    "    .mode(\"overwrite\") \\\n",
    "    .format(\"jdbc\") \\\n",
    "    .option(\"driver\", \"com.mysql.jdbc.Driver\") \\\n",
    "    .option(\"url\", \"jdbc:mysql://localhost:3306/\"+ dbname) \\\n",
    "    .option(\"dbtable\", table_name) \\\n",
    "    .option(\"user\", username) \\\n",
    "    .option(\"batchsize\", 5000) \\\n",
    "    .option(\"password\", password) \\\n",
    "    .save()\n",
    "    \n",
    "    print(\"Import to MySQL completed\")"
   ]
  },
  {
   "cell_type": "code",
   "execution_count": 24,
   "metadata": {},
   "outputs": [
    {
     "name": "stdout",
     "output_type": "stream",
     "text": [
      "Import to MySQL completed\n"
     ]
    }
   ],
   "source": [
    "import_To_MySql(outputData,\"storagedb\",\"customer_info\",\"root\",12345678)"
   ]
  },
  {
   "cell_type": "code",
   "execution_count": null,
   "metadata": {},
   "outputs": [],
   "source": []
  }
 ],
 "metadata": {
  "kernelspec": {
   "display_name": "base",
   "language": "python",
   "name": "python3"
  },
  "language_info": {
   "codemirror_mode": {
    "name": "ipython",
    "version": 3
   },
   "file_extension": ".py",
   "mimetype": "text/x-python",
   "name": "python",
   "nbconvert_exporter": "python",
   "pygments_lexer": "ipython3",
   "version": "3.11.5"
  }
 },
 "nbformat": 4,
 "nbformat_minor": 2
}
